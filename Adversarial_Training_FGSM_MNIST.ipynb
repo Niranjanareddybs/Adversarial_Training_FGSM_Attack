{
  "nbformat": 4,
  "nbformat_minor": 0,
  "metadata": {
    "colab": {
      "provenance": [],
      "gpuType": "T4"
    },
    "kernelspec": {
      "name": "python3",
      "display_name": "Python 3"
    },
    "language_info": {
      "name": "python"
    },
    "accelerator": "GPU"
  },
  "cells": [
    {
      "cell_type": "code",
      "execution_count": 29,
      "metadata": {
        "id": "1rNGddIL92pL"
      },
      "outputs": [],
      "source": [
        "\n",
        "import torch\n",
        "import torch.nn as nn\n",
        "import torchvision\n",
        "import torchvision.models as models\n",
        "import torchvision.transforms as transforms\n",
        "import torchvision.datasets as datasets\n",
        "import torch.optim as optim\n",
        "from torch.autograd import Variable\n",
        "import numpy as np\n",
        "import  matplotlib.pyplot as plt\n",
        "from torch.utils.data import DataLoader\n",
        "\n",
        "use_cuda=True\n",
        "device = torch.device(\"cuda\" if torch.cuda.is_available() else \"cpu\")"
      ]
    },
    {
      "cell_type": "markdown",
      "source": [
        "##  **Training Model**"
      ],
      "metadata": {
        "id": "p5e_3EpihoUS"
      }
    },
    {
      "cell_type": "code",
      "source": [
        "#defining model\n",
        "\n",
        "class NNmodel(nn.Module):\n",
        "  def __init__(self):\n",
        "    super(NNmodel,self).__init__()\n",
        "    self.conv1=nn.Conv2d(1,10,5)\n",
        "    self.maxpool=nn.functional.max_pool2d\n",
        "    self.conv2=nn.Conv2d(10,20,5)\n",
        "    self.conv2_drop=nn.Dropout2d()\n",
        "    self.fc1=nn.Linear(320,50)\n",
        "    self.fc2=nn.Linear(50,20)\n",
        "  def forward(self,x):\n",
        "    x=self.conv1(x)\n",
        "    x=self.maxpool(x,2)\n",
        "    x=nn.functional.relu(x)\n",
        "    x=self.conv2(x)\n",
        "    x=self.conv2_drop(x)\n",
        "    x=self.maxpool(x,2)\n",
        "    x=nn.functional.relu(x)\n",
        "    x=nn.functional.dropout(x,training=self.training)\n",
        "    x=x.view(-1,320)\n",
        "    x=self.fc1(x)\n",
        "    x=nn.functional.relu(x)\n",
        "    x=self.fc2(x)\n",
        "    return nn.functional.log_softmax(x,dim=1)\n",
        "\n",
        "# model for adversarial training\n",
        "model=NNmodel().to(device)\n",
        "# model for standard training\n",
        "model2=NNmodel().to(device)"
      ],
      "metadata": {
        "id": "a1c31CiFr3h8"
      },
      "execution_count": 30,
      "outputs": []
    },
    {
      "cell_type": "markdown",
      "source": [
        "## IMAGES PRINTING"
      ],
      "metadata": {
        "id": "rDUAltT_4kNC"
      }
    },
    {
      "cell_type": "code",
      "source": [
        "#function to print images\n",
        "def show_last_batch(images, labels, num_images=10):\n",
        "    plt.figure(figsize=(28, 28))\n",
        "\n",
        "    for i in range(min(num_images, len(images))):\n",
        "        plt.subplot(1, num_images, i + 1)\n",
        "        plt.imshow(images[i].squeeze(), cmap='gray')\n",
        "        plt.title(f'Label: {labels[i]}')\n",
        "        plt.axis('off')\n",
        "\n",
        "    plt.show()"
      ],
      "metadata": {
        "id": "hiK33gK0XbXs"
      },
      "execution_count": 31,
      "outputs": []
    },
    {
      "cell_type": "markdown",
      "source": [
        "## **FGSM Attack**"
      ],
      "metadata": {
        "id": "RZQ0Uvlth3Me"
      }
    },
    {
      "cell_type": "code",
      "source": [
        "#loss function\n",
        "loss=nn.CrossEntropyLoss()\n",
        "\n",
        "#fgsm attack\n",
        "def fgsm_attack(images,labels,model,eps):\n",
        "    images=images.to(device)\n",
        "    labels=labels.to(device)\n",
        "    images.requires_grad=True\n",
        "    outputs=model(images)\n",
        "    model.zero_grad()\n",
        "    cost=loss(outputs,labels).to(device)\n",
        "    cost.backward()\n",
        "    attack_images=images+eps*images.grad.sign()\n",
        "    attack_images=torch.clamp(attack_images,0,1)\n",
        "    return attack_images"
      ],
      "metadata": {
        "id": "QXFtH-I96Q84"
      },
      "execution_count": 56,
      "outputs": []
    },
    {
      "cell_type": "markdown",
      "source": [
        "## **Training and Testing functions**"
      ],
      "metadata": {
        "id": "V0FCQ1YHheNX"
      }
    },
    {
      "cell_type": "code",
      "source": [
        "#training function for Standard training\n",
        "def train(model,device,train_loader,optimizer,epoch,eps):\n",
        "    for batch_idx, (image, labels) in enumerate(train_loader):\n",
        "      image,labels=image.to(device),labels.to(device)\n",
        "\n",
        "      optimizer.zero_grad()\n",
        "      image.requires_grad=True\n",
        "\n",
        "      output=model(image)\n",
        "      loss=nn.functional.nll_loss(output,labels)\n",
        "      loss.backward()\n",
        "\n",
        "      optimizer.step()\n"
      ],
      "metadata": {
        "id": "zzUe2ralTNPX"
      },
      "execution_count": 57,
      "outputs": []
    },
    {
      "cell_type": "code",
      "source": [
        "#training function for adversarial training\n",
        "def adv_train(model,device,train_loader,optimizer,epoch,eps):\n",
        "    for batch_idx, (image, labels) in enumerate(train_loader):\n",
        "      image,labels=image.to(device),labels.to(device)\n",
        "\n",
        "      optimizer.zero_grad()\n",
        "      image.requires_grad=True\n",
        "\n",
        "      output=model(image)\n",
        "      loss=nn.functional.nll_loss(output,labels)\n",
        "      loss.backward()\n",
        "\n",
        "      perturbed_image=fgsm_attack(image,labels,model,eps)\n",
        "      output=model(perturbed_image)\n",
        "\n",
        "      loss_adv=nn.functional.nll_loss(output,labels)\n",
        "      loss_adv.backward()\n",
        "\n",
        "      optimizer.step()\n"
      ],
      "metadata": {
        "id": "L7_YPCk_6m_F"
      },
      "execution_count": 58,
      "outputs": []
    },
    {
      "cell_type": "code",
      "source": [
        "\n",
        "import torch.nn.functional as F\n",
        "last_images = None\n",
        "last_labels = None\n",
        "def test(model, device, test_loader, epsilon):\n",
        "    correct = 0\n",
        "    total=0;\n",
        "    adv_examples = []\n",
        "    model.eval()\n",
        "    for data, target in test_loader:\n",
        "        data, target = data.to(device), target.to(device)\n",
        "\n",
        "        data.requires_grad = True\n",
        "\n",
        "        # Call FGSM Attack\n",
        "        perturbed_data = fgsm_attack(data, target,model,epsilon)\n",
        "        output = model(perturbed_data)\n",
        "        final_pred = output.max(1, keepdim=True)[1]\n",
        "        total+=len(target)\n",
        "        correct += final_pred.eq(target.view_as(final_pred)).sum().item()\n",
        "        final_pred=final_pred.flatten()\n",
        "        last_images = perturbed_data.cpu().detach().numpy()\n",
        "        # print(last_images.shape)\n",
        "        last_labels = final_pred.cpu().detach().numpy()\n",
        "\n",
        "    print(total)\n",
        "    final_acc = correct / float(total)\n",
        "    print(\"Epsilon: {}\\tTest Accuracy = {} / {} = {}\".format(epsilon, correct, total, final_acc*100))\n",
        "\n",
        "    return last_images,last_labels"
      ],
      "metadata": {
        "id": "Dua_KrdbCPpI"
      },
      "execution_count": 59,
      "outputs": []
    },
    {
      "cell_type": "markdown",
      "source": [
        "## **Training** **and** **Testing** **Phase**"
      ],
      "metadata": {
        "id": "adKGcNUuguUz"
      }
    },
    {
      "cell_type": "code",
      "source": [
        "#training dataset\n",
        "train_loader = DataLoader(\n",
        "    datasets.MNIST('./data', train=True, download=True,\n",
        "                   transform=transforms.Compose([\n",
        "                       transforms.ToTensor(),\n",
        "                       transforms.Normalize((0.1307,), (0.3081,))\n",
        "                   ])),\n",
        "    batch_size=64, shuffle=True)\n",
        "\n",
        "#testing dataset\n",
        "test_loader = DataLoader(\n",
        "    datasets.MNIST('./data', train=False, download=True,\n",
        "                   transform=transforms.Compose([\n",
        "                       transforms.ToTensor(),\n",
        "                       transforms.Normalize((0.1307,), (0.3081,))\n",
        "                   ])),\n",
        "    batch_size=10, shuffle=True)\n",
        "\n",
        "\n",
        "#optimizer for adversarial training\n",
        "optimizer = optim.Adam(model.parameters(), lr=0.001)\n",
        "#optimizer for standard training\n",
        "optimizer2 = optim.Adam(model2.parameters(), lr=0.001)\n",
        "\n",
        "# Epsilon value for FGSM\n",
        "epsilon = 0.7\n",
        "num_epochs = 5\n",
        "\n",
        "# Standard Training\n",
        "for epoch in range(1, num_epochs + 1):\n",
        "    train(model2, device, train_loader, optimizer2, epoch, epsilon)\n",
        "    # last_images,last_labels=test(model2, device, test_loader, epsilon)\n",
        "    # show_last_batch(last_images, last_labels, num_images=10)\n",
        "print(\"Normal Training Results on adversarial attacks:\")\n",
        "# # last_images = None\n",
        "# # last_labels = None\n",
        "last_images,last_labels=test(model2, device, test_loader, epsilon)\n",
        "\n",
        "\n",
        "\n",
        "# Show images and labels from the last batch\n",
        "show_last_batch(last_images, last_labels, num_images=10)\n",
        "\n",
        "#Adversarial training\n",
        "for epoch in range(1, num_epochs + 1):\n",
        "    adv_train(model, device, train_loader, optimizer, epoch, epsilon)\n",
        "    # last_images,last_labels=test(model, device, test_loader, epsilon)\n",
        "    # show_last_batch(last_images, last_labels, num_images=10)\n",
        "\n",
        "print(\"Adversarial Training Results on adversarial attacks:\")\n",
        "last_images,last_labels=test(model, device, test_loader, epsilon)\n",
        "show_last_batch(last_images, last_labels, num_images=10)"
      ],
      "metadata": {
        "colab": {
          "base_uri": "https://localhost:8080/",
          "height": 411
        },
        "id": "EZUFaocAvi63",
        "outputId": "871beacc-91a0-44f3-c80b-8786f96e6288"
      },
      "execution_count": 61,
      "outputs": [
        {
          "output_type": "stream",
          "name": "stdout",
          "text": [
            "Normal Training Results on adversarial attacks:\n",
            "10000\n",
            "Epsilon: 0.7\tTest Accuracy = 5096 / 10000 = 50.96000000000001\n"
          ]
        },
        {
          "output_type": "display_data",
          "data": {
            "text/plain": [
              "<Figure size 2800x2800 with 10 Axes>"
            ],
            "image/png": "[encoded data removed]"
          },
          "metadata": {}
        },
        {
          "output_type": "stream",
          "name": "stdout",
          "text": [
            "Adversarial Training Results on adversarial attacks:\n",
            "10000\n",
            "Epsilon: 0.7\tTest Accuracy = 9928 / 10000 = 99.28\n"
          ]
        },
        {
          "output_type": "display_data",
          "data": {
            "text/plain": [
              "<Figure size 2800x2800 with 10 Axes>"
            ],
            "image/png": "[encoded data removed]"
          },
          "metadata": {}
        }
      ]
    }
  ]
}